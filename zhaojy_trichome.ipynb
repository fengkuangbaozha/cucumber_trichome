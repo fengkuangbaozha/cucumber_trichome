{
 "cells": [
  {
   "cell_type": "markdown",
   "metadata": {},
   "source": [
    "# Transcriptomic analysis reveals the roles of microtubule-related genes and transcription factors in fruit trichome regulation in cucumber (Cucumis sativus L.)"
   ]
  },
  {
   "cell_type": "markdown",
   "metadata": {},
   "source": [
    "Pipeline: Firstly, we carried out RNA-seq gene differential expression analysis on cucumber two different trichome datasets. Secondly, we carried out funcitonal analysis of differentially expressed genes to identify their functions and involved pathways."
   ]
  },
  {
   "cell_type": "markdown",
   "metadata": {},
   "source": [
    "## Part one. Genes differential expression analysis between two different cucumber trichome varieties."
   ]
  },
  {
   "cell_type": "markdown",
   "metadata": {},
   "source": [
    "<img src=\"https://github.com/fengkuangbaozha/maize_nitrogen/blob/fig/maize_fig1.png?raw=true\" style=\"height: 300px;\" />\n",
    "Figure 1. Pipeline of differentially expressed genes identification."
   ]
  },
  {
   "cell_type": "markdown",
   "metadata": {},
   "source": [
    "### 1. We cleaned the reads with SolexaQA and Cutadapter, mapped reads to the cucumber genome (ChineseLong v2) with tophat, calculated reads counts with htseq-count."
   ]
  },
  {
   "cell_type": "markdown",
   "metadata": {
    "collapsed": false
   },
   "source": [
    "```bash\n",
    "qsub -q small.q -t 1-2 /psc/home/ydsun/zhaojy_trichome/script/assemble_single.sh /psc/home/ydsun/genome/cucumis_sativus/csa_ChineseLong.v2.gtf /psc/home/ydsun/genome/cucumis_sativus/csa_ChineseLong.v2 /psc/home/ydsun/zhaojy_trichome/data/ 1983-G\n",
    "qsub -q medium.q -t 1-2 /psc/home/ydsun/zhaojy_trichome/script/assemble_single.sh /psc/home/ydsun/genome/cucumis_sativus/csa_ChineseLong.v2.gtf /psc/home/ydsun/genome/cucumis_sativus/csa_ChineseLong.v2 /psc/home/ydsun/zhaojy_trichome/data/ 1983-H\n",
    "```"
   ]
  },
  {
   "cell_type": "markdown",
   "metadata": {},
   "source": [
    "###### Reads statistics."
   ]
  },
  {
   "cell_type": "markdown",
   "metadata": {
    "collapsed": false
   },
   "source": [
    "```sh\n",
    "bash /psc/home/ydsun/zhaojy_trichome/script/reads_statistics.sh  /psc/home/ydsun/zhaojy_trichome/data\n",
    "```"
   ]
  },
  {
   "cell_type": "markdown",
   "metadata": {},
   "source": [
    "<img src=\"https://github.com/fengkuangbaozha/cucumber_trichome/blob/fig/fig1.png?raw=true\" style=\"width: 600px;\" />\n",
    "Table 1. Statisctics of RNA-seq samples."
   ]
  },
  {
   "cell_type": "markdown",
   "metadata": {},
   "source": [
    "### 2. We test replicates quality with PCA and Pairwise analysis."
   ]
  },
  {
   "cell_type": "markdown",
   "metadata": {
    "collapsed": false
   },
   "source": [
    "```sh\n",
    "cd /psc/bioinformatics/sunyd/zhaojy_trichome/process\n",
    "Rscript /psc/bioinformatics/sunyd/zhaojy_trichome/script/pca_pairwise_3rep.R\n",
    "```"
   ]
  },
  {
   "cell_type": "markdown",
   "metadata": {},
   "source": [
    "<img src=\"https://github.com/fengkuangbaozha/cucumber_trichome/blob/fig/fig1_3.png?raw=true\" style=\"height: 500px;\" />\n",
    "<img src=\"https://github.com/fengkuangbaozha/cucumber_trichome/blob/fig/fig1_2.png?raw=true\" style=\"height: 500px;\" />\n",
    "Figure 2. PCA and Pairwise analysis of RNA-seq samples."
   ]
  },
  {
   "cell_type": "markdown",
   "metadata": {},
   "source": [
    "### 3. We performed differential expression (DE) analysis with edgeR between two different cucumber trichome varieties and compared with DGE data analysis published in JXB."
   ]
  },
  {
   "cell_type": "markdown",
   "metadata": {
    "collapsed": false
   },
   "source": [
    "```sh\n",
    "bash /psc/home/ydsun/zhaojy_trichome/script/replicate_all_de.sh /psc/home/ydsun/zhaojy_trichome/process\n",
    "bash /psc/home/ydsun/zhaojy_trichome/script/de_updown.sh /psc/home/ydsun/zhaojy_trichome/process  ######Up and down DE genes and expression ###\n",
    "Rscript ../../script/venn_snp.R rnaseq.de.txt develop_stage.de.txt ck_tbh.de.txt venn_RNAseq_DGE 0.06 0.06 0.04\n",
    "```"
   ]
  },
  {
   "cell_type": "markdown",
   "metadata": {},
   "source": [
    "<img src=\"https://github.com/fengkuangbaozha/cucumber_trichome/blob/fig/fig2.png?raw=true\" style=\"height: 300px;\" />\n",
    "Figure 3. Overlap of differentially expressed genes with DGE data analysis published in JXB."
   ]
  },
  {
   "cell_type": "markdown",
   "metadata": {},
   "source": [
    "## Part Two. Analysis of transcription factors."
   ]
  },
  {
   "cell_type": "markdown",
   "metadata": {},
   "source": [
    "### 1. We identified DE genes involved pathways with Mapman."
   ]
  },
  {
   "cell_type": "markdown",
   "metadata": {
    "collapsed": false
   },
   "source": [
    "```sh\n",
    "cd /psc/home/ydsun/zhaojy_trichome/process\n",
    "for i in *diff.txt; do j=`echo $i |sed 's/diff/diff.mapman/g'`; cut -f1,2 $i |sed '1d' > $j; done    ####only keep name and fold change\n",
    "```"
   ]
  },
  {
   "cell_type": "markdown",
   "metadata": {},
   "source": [
    "<img src=\"https://github.com/fengkuangbaozha/cucumber_trichome/blob/fig/fig3.png?raw=true\" style=\"height: 500px;\" />\n",
    "Figure 4. Differentially expressed genes are enriched in transcription factors."
   ]
  },
  {
   "cell_type": "markdown",
   "metadata": {},
   "source": [
    "### 2. Classification of transcription factors."
   ]
  },
  {
   "cell_type": "markdown",
   "metadata": {},
   "source": [
    "```sh\n",
    "grep -Fwf <(awk '{if($3<$5) print $0}' topgo/categorydetail_all.trichome.RNA.txt |cut -d \"(\" -f1) ~/genome/cucumis_sativus/csa_ChineseLong.v2.mapman.mercator.txt |cut -f2,3 |grep \"RNA.regulation of transcription\" |sed 's/ /_/g' |cut -f1 |sort |uniq -c |sed 's/RNA.regulation_of_transcription.//g' |awk '{OFS=\"\\t\";print $2,$1}' |sort -k2 -g -r > tf_classification\n",
    "paste <(cut -d_ -f1 tf_classification) tf_classification |sed \"s/'//g\" > tf_classification1\n",
    "```"
   ]
  },
  {
   "cell_type": "markdown",
   "metadata": {},
   "source": [
    "<img src=\"https://github.com/fengkuangbaozha/cucumber_trichome/blob/fig/fig4.png?raw=true\" style=\"width: 600px;\" />\n",
    "Figure 5. Classification of transcription factors."
   ]
  },
  {
   "cell_type": "markdown",
   "metadata": {},
   "source": [
    "### 3. GO enrichment analysis of up regulated genes with topgo package."
   ]
  },
  {
   "cell_type": "markdown",
   "metadata": {
    "collapsed": false
   },
   "source": [
    "```sh\n",
    "bash /psc/home/ydsun/zhaojy_trichome/script/topgo.sh /psc/home/ydsun/zhaojy_trichome/process/topgo /psc/home/ydsun/genome/cucumis_sativus/cuc.map\n",
    "```"
   ]
  },
  {
   "cell_type": "markdown",
   "metadata": {},
   "source": [
    "<img src=\"https://github.com/fengkuangbaozha/cucumber_trichome/blob/fig/fig5.png?raw=true\" style=\"width: 800px;\" />\n",
    "Figure 6.  GO enrichment of up regualted genes."
   ]
  },
  {
   "cell_type": "markdown",
   "metadata": {},
   "source": [
    "## Part Three. Analysis of Microtube Related Genes"
   ]
  },
  {
   "cell_type": "markdown",
   "metadata": {},
   "source": [
    "### 1. We identified DE genes involved pathways with Mapman."
   ]
  },
  {
   "cell_type": "markdown",
   "metadata": {
    "collapsed": false
   },
   "source": [
    "<img src=\"https://github.com/fengkuangbaozha/cucumber_trichome/blob/fig/fig6.png?raw=true\" style=\"height: 800px;\" />\n",
    "Figure 7.  Differentially expressed genes are enriched in cell wall, cell division and cell cycle."
   ]
  },
  {
   "cell_type": "markdown",
   "metadata": {
    "collapsed": false
   },
   "source": [
    "### 2. Functional category enrichment of differentially expressed genes."
   ]
  },
  {
   "cell_type": "markdown",
   "metadata": {
    "collapsed": false
   },
   "source": [
    "```sh\n",
    "bash /psc/home/ydsun/zhaojy_trichome/script/category_enrich.sh /psc/home/ydsun/genome/cucumis_sativus/csa_ChineseLong.v2.mapman.category.id /psc/home/ydsun/zhaojy_trichome/process/topgo\n",
    "bash /psc/home/ydsun/zhaojy_trichome/script/category_detail_specific.sh /psc/home/ydsun/zhaojy_trichome/process/topgo trichome _all 1-6\n",
    "```"
   ]
  },
  {
   "cell_type": "markdown",
   "metadata": {},
   "source": [
    "<img src=\"https://github.com/fengkuangbaozha/cucumber_trichome/blob/fig/fig7.png?raw=true\" style=\"width: 800px;\" />\n",
    "Figure 8.  Functional category enrichment of differentially expressed genes."
   ]
  },
  {
   "cell_type": "markdown",
   "metadata": {},
   "source": [
    "### 3. GO enrichment analysis of down regulated genes with topgo package."
   ]
  },
  {
   "cell_type": "markdown",
   "metadata": {},
   "source": [
    "<img src=\"https://github.com/fengkuangbaozha/cucumber_trichome/blob/fig/fig8.png?raw=true\" style=\"width: 500px;\" />\n",
    "Figure 9.  GO enrichment of down regulated genes."
   ]
  },
  {
   "cell_type": "markdown",
   "metadata": {},
   "source": [
    "## Part Four. KEGG pathway analysis of differentially expressed genes."
   ]
  },
  {
   "cell_type": "markdown",
   "metadata": {},
   "source": [
    "```sh\n",
    "bash /psc/home/ydsun/zhaojy_trichome/script/kegg.sh /psc/home/ydsun/zhaojy_trichome/process/topgo /psc/home/ydsun/genome/cucumis_sativus/csa_ChineseLong.v2.kegg\n",
    "```"
   ]
  },
  {
   "cell_type": "markdown",
   "metadata": {},
   "source": [
    "<img src=\"https://github.com/fengkuangbaozha/cucumber_trichome/blob/fig/fig9.png?raw=true\" style=\"width: 500px;\" />\n",
    "<img src=\"https://github.com/fengkuangbaozha/cucumber_trichome/blob/fig/fig10.png?raw=true\" style=\"width: 500px;\" />\n",
    "Figure 10.  KEGG pathway analysis of differentially expressed genes."
   ]
  },
  {
   "cell_type": "markdown",
   "metadata": {},
   "source": [
    "### Notice: our partner is responsible for the sample preparation, RNA sequencing and following experimental validation."
   ]
  }
 ],
 "metadata": {
  "kernelspec": {
   "display_name": "Python 2",
   "language": "python",
   "name": "python2"
  },
  "language_info": {
   "codemirror_mode": {
    "name": "ipython",
    "version": 2
   },
   "file_extension": ".py",
   "mimetype": "text/x-python",
   "name": "python",
   "nbconvert_exporter": "python",
   "pygments_lexer": "ipython2",
   "version": "2.7.11"
  }
 },
 "nbformat": 4,
 "nbformat_minor": 0
}
